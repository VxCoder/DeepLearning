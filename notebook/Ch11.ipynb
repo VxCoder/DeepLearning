{
 "cells": [
  {
   "cell_type": "code",
   "execution_count": 2,
   "metadata": {},
   "outputs": [],
   "source": [
    "import tensorflow as tf\n",
    "from tensorflow.keras import layers"
   ]
  },
  {
   "cell_type": "code",
   "execution_count": 3,
   "metadata": {},
   "outputs": [
    {
     "data": {
      "text/plain": [
       "<tf.Tensor: id=8, shape=(10,), dtype=int32, numpy=array([4, 9, 2, 6, 7, 1, 0, 8, 3, 5])>"
      ]
     },
     "execution_count": 3,
     "metadata": {},
     "output_type": "execute_result"
    }
   ],
   "source": [
    "x = tf.range(10)\n",
    "x = tf.random.shuffle(x)\n",
    "x"
   ]
  },
  {
   "cell_type": "code",
   "execution_count": 7,
   "metadata": {},
   "outputs": [
    {
     "data": {
      "text/plain": [
       "<tf.Variable 'embedding_2/embeddings:0' shape=(10, 4) dtype=float32, numpy=\n",
       "array([[-0.00156176, -0.0338545 ,  0.03610596, -0.02089578],\n",
       "       [ 0.04053657, -0.0355368 , -0.02846841,  0.04887268],\n",
       "       [ 0.0008484 , -0.03601378, -0.03946296,  0.01723893],\n",
       "       [ 0.03755841, -0.0130744 ,  0.02156893,  0.04451224],\n",
       "       [-0.01210865, -0.02391648,  0.01838031, -0.02554902],\n",
       "       [-0.02189542, -0.02193762,  0.04263674,  0.0294688 ],\n",
       "       [-0.01049458, -0.00949696, -0.04322711, -0.03019979],\n",
       "       [-0.02689729,  0.02321018, -0.01697353,  0.02991791],\n",
       "       [-0.009023  ,  0.00378064, -0.01650039,  0.00265337],\n",
       "       [-0.03864832, -0.00298167,  0.04094818,  0.03324611]],\n",
       "      dtype=float32)>"
      ]
     },
     "execution_count": 7,
     "metadata": {},
     "output_type": "execute_result"
    }
   ],
   "source": [
    "net = layers.Embedding(10, 4)\n",
    "out = net(x)\n",
    "net.embeddings"
   ]
  },
  {
   "cell_type": "code",
   "execution_count": 8,
   "metadata": {},
   "outputs": [
    {
     "data": {
      "text/plain": [
       "[<tf.Variable 'kernel:0' shape=(4, 3) dtype=float32, numpy=\n",
       " array([[ 0.6511543 , -0.6071284 ,  0.5307218 ],\n",
       "        [ 0.2724104 , -0.7232544 , -0.3792742 ],\n",
       "        [ 0.45291352, -0.7770123 , -0.1623295 ],\n",
       "        [-0.37824273,  0.25198245, -0.17569488]], dtype=float32)>,\n",
       " <tf.Variable 'recurrent_kernel:0' shape=(3, 3) dtype=float32, numpy=\n",
       " array([[-0.12261713, -0.9874527 , -0.09950946],\n",
       "        [-0.98703   ,  0.13180089, -0.09165207],\n",
       "        [ 0.10361752,  0.08698072, -0.99080664]], dtype=float32)>,\n",
       " <tf.Variable 'bias:0' shape=(3,) dtype=float32, numpy=array([0., 0., 0.], dtype=float32)>]"
      ]
     },
     "execution_count": 8,
     "metadata": {},
     "output_type": "execute_result"
    }
   ],
   "source": [
    "cell = layers.SimpleRNNCell(3)\n",
    "cell.build(input_shape=(None, 4))\n",
    "cell.trainable_variables"
   ]
  },
  {
   "cell_type": "code",
   "execution_count": 10,
   "metadata": {},
   "outputs": [
    {
     "data": {
      "text/plain": [
       "<tf.Tensor: id=106, shape=(2,), dtype=float32, numpy=array([0.       , 1.9999999], dtype=float32)>"
      ]
     },
     "execution_count": 10,
     "metadata": {},
     "output_type": "execute_result"
    }
   ],
   "source": [
    "w = tf.ones([2,2])\n",
    "eigenvalues = tf.linalg.eigh(w)[0]\n",
    "eigenvalues"
   ]
  },
  {
   "cell_type": "code",
   "execution_count": 12,
   "metadata": {},
   "outputs": [
    {
     "name": "stdout",
     "output_type": "stream",
     "text": [
      "[<tf.Tensor: id=105, shape=(2, 2), dtype=float32, numpy=\n",
      "array([[1., 1.],\n",
      "       [1., 1.]], dtype=float32)>, [<tf.Tensor: id=127, shape=(2, 2), dtype=float32, numpy=\n",
      "array([[2., 2.],\n",
      "       [2., 2.]], dtype=float32)>], [<tf.Tensor: id=129, shape=(1, 2, 2), dtype=float32, numpy=\n",
      "array([[[4., 4.],\n",
      "        [4., 4.]]], dtype=float32)>], [<tf.Tensor: id=131, shape=(1, 1, 2, 2), dtype=float32, numpy=\n",
      "array([[[[8., 8.],\n",
      "         [8., 8.]]]], dtype=float32)>], [<tf.Tensor: id=133, shape=(1, 1, 1, 2, 2), dtype=float32, numpy=\n",
      "array([[[[[16., 16.],\n",
      "          [16., 16.]]]]], dtype=float32)>], [<tf.Tensor: id=135, shape=(1, 1, 1, 1, 2, 2), dtype=float32, numpy=\n",
      "array([[[[[[32., 32.],\n",
      "           [32., 32.]]]]]], dtype=float32)>], [<tf.Tensor: id=137, shape=(1, 1, 1, 1, 1, 2, 2), dtype=float32, numpy=\n",
      "array([[[[[[[64., 64.],\n",
      "            [64., 64.]]]]]]], dtype=float32)>], [<tf.Tensor: id=139, shape=(1, 1, 1, 1, 1, 1, 2, 2), dtype=float32, numpy=\n",
      "array([[[[[[[[128., 128.],\n",
      "             [128., 128.]]]]]]]], dtype=float32)>], [<tf.Tensor: id=141, shape=(1, 1, 1, 1, 1, 1, 1, 2, 2), dtype=float32, numpy=\n",
      "array([[[[[[[[[256., 256.],\n",
      "              [256., 256.]]]]]]]]], dtype=float32)>], [<tf.Tensor: id=143, shape=(1, 1, 1, 1, 1, 1, 1, 1, 2, 2), dtype=float32, numpy=\n",
      "array([[[[[[[[[[512., 512.],\n",
      "               [512., 512.]]]]]]]]]], dtype=float32)>], [<tf.Tensor: id=145, shape=(1, 1, 1, 1, 1, 1, 1, 1, 1, 2, 2), dtype=float32, numpy=\n",
      "array([[[[[[[[[[[1024., 1024.],\n",
      "                [1024., 1024.]]]]]]]]]]], dtype=float32)>]]\n"
     ]
    }
   ],
   "source": [
    "val = [w]\n",
    "for i in range(10):\n",
    "    val.append([val[-1]@w])\n",
    "print(val)"
   ]
  },
  {
   "cell_type": "code",
   "execution_count": 15,
   "metadata": {},
   "outputs": [
    {
     "data": {
      "text/plain": [
       "<tf.Tensor: id=174, shape=(2, 2), dtype=float32, numpy=\n",
       "array([[0.6, 0.6],\n",
       "       [0.4, 0.4]], dtype=float32)>"
      ]
     },
     "execution_count": 15,
     "metadata": {},
     "output_type": "execute_result"
    }
   ],
   "source": [
    "a = tf.random.uniform([2,2])\n",
    "tf.clip_by_value(a, 0.4, 0.6)"
   ]
  },
  {
   "cell_type": "code",
   "execution_count": 1,
   "metadata": {},
   "outputs": [
    {
     "ename": "NameError",
     "evalue": "name 'tf' is not defined",
     "output_type": "error",
     "traceback": [
      "\u001b[1;31m---------------------------------------------------------------------------\u001b[0m",
      "\u001b[1;31mNameError\u001b[0m                                 Traceback (most recent call last)",
      "\u001b[1;32m<ipython-input-1-3ec712ec6dad>\u001b[0m in \u001b[0;36m<module>\u001b[1;34m\u001b[0m\n\u001b[1;32m----> 1\u001b[1;33m \u001b[0ma\u001b[0m \u001b[1;33m=\u001b[0m \u001b[0mtf\u001b[0m\u001b[1;33m.\u001b[0m\u001b[0mrandom\u001b[0m\u001b[1;33m.\u001b[0m\u001b[0muniform\u001b[0m\u001b[1;33m(\u001b[0m\u001b[1;33m[\u001b[0m\u001b[1;36m2\u001b[0m\u001b[1;33m,\u001b[0m\u001b[1;36m2\u001b[0m\u001b[1;33m]\u001b[0m\u001b[1;33m)\u001b[0m\u001b[1;33m*\u001b[0m\u001b[1;36m5\u001b[0m\u001b[1;33m\u001b[0m\u001b[0m\n\u001b[0m\u001b[0;32m      2\u001b[0m \u001b[0mb\u001b[0m \u001b[1;33m=\u001b[0m \u001b[0mtf\u001b[0m\u001b[1;33m.\u001b[0m\u001b[0mclip_by_norm\u001b[0m\u001b[1;33m(\u001b[0m\u001b[0ma\u001b[0m\u001b[1;33m,\u001b[0m \u001b[1;36m5\u001b[0m\u001b[1;33m)\u001b[0m\u001b[1;33m\u001b[0m\u001b[0m\n\u001b[0;32m      3\u001b[0m \u001b[0mtf\u001b[0m\u001b[1;33m.\u001b[0m\u001b[0mnorm\u001b[0m\u001b[1;33m(\u001b[0m\u001b[0ma\u001b[0m\u001b[1;33m)\u001b[0m\u001b[1;33m,\u001b[0m \u001b[0mtf\u001b[0m\u001b[1;33m.\u001b[0m\u001b[0mnorm\u001b[0m\u001b[1;33m(\u001b[0m\u001b[0mb\u001b[0m\u001b[1;33m)\u001b[0m\u001b[1;33m\u001b[0m\u001b[0m\n",
      "\u001b[1;31mNameError\u001b[0m: name 'tf' is not defined"
     ]
    }
   ],
   "source": [
    "a = tf.random.uniform([2,2])*5\n",
    "b = tf.clip_by_norm(a, 5)\n",
    "tf.norm(a), tf.norm(b)"
   ]
  },
  {
   "cell_type": "code",
   "execution_count": null,
   "metadata": {},
   "outputs": [],
   "source": [
    "w1 = tf.random.normal([3,3])\n",
    "w2 = tf.random.normal([3,3])\n",
    "global_norm = tf.math.sqrt(tf.norm(w1)**2 + tf.norm(w2)**2)\n",
    "(ww1, ww2), global_norm = tf.clip_by_global_norm([w1, w2], 2)"
   ]
  }
 ],
 "metadata": {
  "kernelspec": {
   "display_name": "'Python Interactive'",
   "language": "python",
   "name": "ae8ce5ea-f6f5-4982-8e30-c46180c8aba3"
  },
  "language_info": {
   "codemirror_mode": {
    "name": "ipython",
    "version": 3
   },
   "file_extension": ".py",
   "mimetype": "text/x-python",
   "name": "python",
   "nbconvert_exporter": "python",
   "pygments_lexer": "ipython3",
   "version": "3.6.6"
  }
 },
 "nbformat": 4,
 "nbformat_minor": 2
}
