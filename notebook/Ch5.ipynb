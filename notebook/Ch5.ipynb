{
 "cells": [
  {
   "cell_type": "code",
   "execution_count": 17,
   "metadata": {},
   "outputs": [],
   "source": [
    "import tensorflow as tf\n",
    "import numpy as np"
   ]
  },
  {
   "cell_type": "code",
   "execution_count": 5,
   "metadata": {},
   "outputs": [
    {
     "data": {
      "text/plain": [
       "<tf.Tensor: id=37, shape=(5, 4), dtype=int32, numpy=\n",
       "array([[ 0,  1,  2,  3],\n",
       "       [ 4,  5,  6,  7],\n",
       "       [ 0,  1,  2,  3],\n",
       "       [ 4,  5,  6,  7],\n",
       "       [ 8,  9, 10, 11]])>"
      ]
     },
     "execution_count": 5,
     "metadata": {},
     "output_type": "execute_result"
    }
   ],
   "source": [
    "a = tf.reshape(tf.range(8), (2,4))\n",
    "b = tf.reshape(tf.range(12),(3,4))\n",
    "tf.concat([a,b], axis=0)"
   ]
  },
  {
   "cell_type": "code",
   "execution_count": 10,
   "metadata": {},
   "outputs": [
    {
     "data": {
      "text/plain": [
       "<tf.Tensor: id=88, shape=(2, 2, 4), dtype=int32, numpy=\n",
       "array([[[ 0,  1,  2,  3],\n",
       "        [ 8,  9, 10, 11]],\n",
       "\n",
       "       [[ 4,  5,  6,  7],\n",
       "        [12, 13, 14, 15]]])>"
      ]
     },
     "execution_count": 10,
     "metadata": {},
     "output_type": "execute_result"
    }
   ],
   "source": [
    "a = tf.reshape(tf.range(8), (2,4))\n",
    "b = tf.reshape(tf.range(8, 16),(2,4))\n",
    "tf.stack([a,b], axis=1)"
   ]
  },
  {
   "cell_type": "code",
   "execution_count": 12,
   "metadata": {},
   "outputs": [
    {
     "data": {
      "text/plain": [
       "[<tf.Tensor: id=115, shape=(1, 2, 2), dtype=int32, numpy=\n",
       " array([[[0, 1],\n",
       "         [2, 3]]])>, <tf.Tensor: id=116, shape=(1, 2, 2), dtype=int32, numpy=\n",
       " array([[[4, 5],\n",
       "         [6, 7]]])>, <tf.Tensor: id=117, shape=(1, 2, 2), dtype=int32, numpy=\n",
       " array([[[ 8,  9],\n",
       "         [10, 11]]])>, <tf.Tensor: id=118, shape=(1, 2, 2), dtype=int32, numpy=\n",
       " array([[[12, 13],\n",
       "         [14, 15]]])>, <tf.Tensor: id=119, shape=(1, 2, 2), dtype=int32, numpy=\n",
       " array([[[16, 17],\n",
       "         [18, 19]]])>, <tf.Tensor: id=120, shape=(1, 2, 2), dtype=int32, numpy=\n",
       " array([[[20, 21],\n",
       "         [22, 23]]])>, <tf.Tensor: id=121, shape=(1, 2, 2), dtype=int32, numpy=\n",
       " array([[[24, 25],\n",
       "         [26, 27]]])>, <tf.Tensor: id=122, shape=(1, 2, 2), dtype=int32, numpy=\n",
       " array([[[28, 29],\n",
       "         [30, 31]]])>, <tf.Tensor: id=123, shape=(1, 2, 2), dtype=int32, numpy=\n",
       " array([[[32, 33],\n",
       "         [34, 35]]])>, <tf.Tensor: id=124, shape=(1, 2, 2), dtype=int32, numpy=\n",
       " array([[[36, 37],\n",
       "         [38, 39]]])>]"
      ]
     },
     "execution_count": 12,
     "metadata": {},
     "output_type": "execute_result"
    }
   ],
   "source": [
    "x = tf.reshape(tf.range(10*2*2), [10,2,2])\n",
    "result = tf.split(x, axis=0, num_or_size_splits=10)\n",
    "result"
   ]
  },
  {
   "cell_type": "code",
   "execution_count": 14,
   "metadata": {},
   "outputs": [
    {
     "data": {
      "text/plain": [
       "<tf.Tensor: id=134, shape=(), dtype=float32, numpy=4.0>"
      ]
     },
     "execution_count": 14,
     "metadata": {},
     "output_type": "execute_result"
    }
   ],
   "source": [
    "x = tf.ones((2,2))\n",
    "tf.norm(x, ord=1)"
   ]
  },
  {
   "cell_type": "code",
   "execution_count": 15,
   "metadata": {},
   "outputs": [
    {
     "data": {
      "text/plain": [
       "<tf.Tensor: id=139, shape=(), dtype=float32, numpy=2.0>"
      ]
     },
     "execution_count": 15,
     "metadata": {},
     "output_type": "execute_result"
    }
   ],
   "source": [
    "tf.norm(x, ord=2)"
   ]
  },
  {
   "cell_type": "code",
   "execution_count": 19,
   "metadata": {},
   "outputs": [
    {
     "data": {
      "text/plain": [
       "<tf.Tensor: id=147, shape=(), dtype=float32, numpy=1.0>"
      ]
     },
     "execution_count": 19,
     "metadata": {},
     "output_type": "execute_result"
    }
   ],
   "source": [
    "tf.norm(x, ord=np.inf)"
   ]
  },
  {
   "cell_type": "code",
   "execution_count": 21,
   "metadata": {},
   "outputs": [],
   "source": [
    "x = tf.random.normal((4,10))"
   ]
  },
  {
   "cell_type": "code",
   "execution_count": 22,
   "metadata": {},
   "outputs": [
    {
     "data": {
      "text/plain": [
       "<tf.Tensor: id=163, shape=(4,), dtype=float32, numpy=array([1.776246 , 1.496614 , 1.9678279, 2.6379695], dtype=float32)>"
      ]
     },
     "execution_count": 22,
     "metadata": {},
     "output_type": "execute_result"
    }
   ],
   "source": [
    "tf.reduce_max(x, axis=1)"
   ]
  },
  {
   "cell_type": "code",
   "execution_count": 23,
   "metadata": {},
   "outputs": [
    {
     "data": {
      "text/plain": [
       "<tf.Tensor: id=165, shape=(4,), dtype=float32, numpy=array([-0.9494438 , -0.89463484, -1.1916949 , -2.043255  ], dtype=float32)>"
      ]
     },
     "execution_count": 23,
     "metadata": {},
     "output_type": "execute_result"
    }
   ],
   "source": [
    "tf.reduce_min(x, axis=1)"
   ]
  },
  {
   "cell_type": "code",
   "execution_count": 24,
   "metadata": {},
   "outputs": [
    {
     "data": {
      "text/plain": [
       "<tf.Tensor: id=167, shape=(4,), dtype=float32, numpy=array([ 0.79449475, -0.01147981,  0.1863002 ,  0.48560008], dtype=float32)>"
      ]
     },
     "execution_count": 24,
     "metadata": {},
     "output_type": "execute_result"
    }
   ],
   "source": [
    "tf.reduce_mean(x, axis=1)"
   ]
  },
  {
   "cell_type": "code",
   "execution_count": 25,
   "metadata": {},
   "outputs": [],
   "source": [
    "out = tf.random.normal((2,10))"
   ]
  },
  {
   "cell_type": "code",
   "execution_count": 26,
   "metadata": {},
   "outputs": [],
   "source": [
    "out = tf.nn.softmax(out, axis=1)"
   ]
  },
  {
   "cell_type": "code",
   "execution_count": 27,
   "metadata": {},
   "outputs": [
    {
     "data": {
      "text/plain": [
       "<tf.Tensor: id=174, shape=(2, 10), dtype=float32, numpy=\n",
       "array([[0.02358494, 0.0736087 , 0.06136298, 0.05354435, 0.1333368 ,\n",
       "        0.16546926, 0.02432145, 0.01301941, 0.07881918, 0.372933  ],\n",
       "       [0.03123041, 0.10523939, 0.06384347, 0.03767688, 0.06476178,\n",
       "        0.41063854, 0.0054002 , 0.03094128, 0.04980941, 0.20045865]],\n",
       "      dtype=float32)>"
      ]
     },
     "execution_count": 27,
     "metadata": {},
     "output_type": "execute_result"
    }
   ],
   "source": [
    "out"
   ]
  },
  {
   "cell_type": "code",
   "execution_count": 29,
   "metadata": {},
   "outputs": [
    {
     "data": {
      "text/plain": [
       "<tf.Tensor: id=178, shape=(2,), dtype=int64, numpy=array([9, 5], dtype=int64)>"
      ]
     },
     "execution_count": 29,
     "metadata": {},
     "output_type": "execute_result"
    }
   ],
   "source": [
    "pred = tf.argmax(out, axis=1)\n",
    "pred"
   ]
  },
  {
   "cell_type": "code",
   "execution_count": 30,
   "metadata": {},
   "outputs": [
    {
     "data": {
      "text/plain": [
       "<tf.Tensor: id=182, shape=(6,), dtype=int32, numpy=array([7, 8, 1, 6, 0, 0])>"
      ]
     },
     "execution_count": 30,
     "metadata": {},
     "output_type": "execute_result"
    }
   ],
   "source": [
    "a = tf.constant([1,2,3,4,5,6])\n",
    "b = tf.constant([7,8,1,6])\n",
    "b = tf.pad(b, [[0,2]])\n",
    "b"
   ]
  },
  {
   "cell_type": "code",
   "execution_count": 31,
   "metadata": {},
   "outputs": [
    {
     "data": {
      "text/plain": [
       "<tf.Tensor: id=188, shape=(9,), dtype=int32, numpy=array([0, 1, 2, 3, 4, 5, 6, 6, 6])>"
      ]
     },
     "execution_count": 31,
     "metadata": {},
     "output_type": "execute_result"
    }
   ],
   "source": [
    "x = tf.range(9)\n",
    "tf.minimum(x, 6)"
   ]
  },
  {
   "cell_type": "code",
   "execution_count": 33,
   "metadata": {},
   "outputs": [],
   "source": [
    "x = tf.random.uniform([4,35,8], maxval=100, dtype=tf.int32)"
   ]
  },
  {
   "cell_type": "code",
   "execution_count": 34,
   "metadata": {},
   "outputs": [
    {
     "data": {
      "text/plain": [
       "<tf.Tensor: id=199, shape=(4, 6, 8), dtype=int32, numpy=\n",
       "array([[[60, 39, 74, 23, 32, 77, 92, 98],\n",
       "        [87, 13, 47, 47, 98, 30, 14, 36],\n",
       "        [60, 46, 49, 72, 48, 84,  4,  0],\n",
       "        [63, 50, 49, 14, 47,  2, 13, 56],\n",
       "        [30, 88, 42, 89, 75,  9, 56, 75],\n",
       "        [35, 13, 72, 92, 41,  6, 40, 15]],\n",
       "\n",
       "       [[26, 44, 39, 42, 75,  1, 70, 25],\n",
       "        [14, 54, 85, 77, 71, 13, 72, 98],\n",
       "        [80,  8,  9, 95, 22, 10, 12, 23],\n",
       "        [82, 38, 82, 81, 98, 33, 88, 74],\n",
       "        [20, 73, 54, 61, 78, 64, 92, 66],\n",
       "        [99, 79, 39, 85, 72, 82, 11, 51]],\n",
       "\n",
       "       [[74,  2, 10, 59, 32, 16, 31,  1],\n",
       "        [63, 77, 47, 24, 83, 40, 16, 85],\n",
       "        [58, 70, 48, 38, 55, 10, 91, 22],\n",
       "        [83, 98, 16,  1, 40, 16, 21, 43],\n",
       "        [96, 46, 97, 94, 49, 48, 38, 53],\n",
       "        [91, 60, 79, 31, 94,  7,  5,  5]],\n",
       "\n",
       "       [[28, 77, 42, 73, 58, 65, 20, 81],\n",
       "        [34, 90, 40, 15, 98, 84, 25, 82],\n",
       "        [12, 39, 25, 88,  9, 40, 68, 47],\n",
       "        [16, 63, 29, 49, 42, 56,  6, 26],\n",
       "        [85, 58, 13, 39, 38, 61, 23, 46],\n",
       "        [74, 43, 28, 58, 58, 23, 52, 57]]])>"
      ]
     },
     "execution_count": 34,
     "metadata": {},
     "output_type": "execute_result"
    }
   ],
   "source": [
    "tf.gather(x, [0, 3,8, 11,12,26], axis=1)"
   ]
  },
  {
   "cell_type": "code",
   "execution_count": 38,
   "metadata": {},
   "outputs": [],
   "source": [
    "x = tf.random.uniform([2,3,8], maxval=100, dtype=tf.int32)"
   ]
  },
  {
   "cell_type": "code",
   "execution_count": 39,
   "metadata": {},
   "outputs": [
    {
     "data": {
      "text/plain": [
       "<tf.Tensor: id=251, shape=(4, 8), dtype=int32, numpy=\n",
       "array([[22, 48, 23, 83, 93, 40, 37, 12],\n",
       "       [91, 17, 82, 91,  4,  9, 13, 95],\n",
       "       [23, 87, 21, 91, 21, 90, 94, 15],\n",
       "       [81, 23, 82, 78, 86, 26, 84, 38]])>"
      ]
     },
     "execution_count": 39,
     "metadata": {},
     "output_type": "execute_result"
    }
   ],
   "source": [
    "tf.gather_nd(x, [[0,0], [0,1], [1,1], [1,2]])"
   ]
  },
  {
   "cell_type": "code",
   "execution_count": 40,
   "metadata": {},
   "outputs": [
    {
     "data": {
      "text/plain": [
       "<tf.Tensor: id=261, shape=(3,), dtype=float32, numpy=array([0.49213868, 2.241812  , 0.54398197], dtype=float32)>"
      ]
     },
     "execution_count": 40,
     "metadata": {},
     "output_type": "execute_result"
    }
   ],
   "source": [
    "x = tf.random.normal([3,3])\n",
    "mask = x > 0\n",
    "indices = tf.where(mask)\n",
    "tf.gather_nd(x, indices)"
   ]
  },
  {
   "cell_type": "code",
   "execution_count": null,
   "metadata": {},
   "outputs": [],
   "source": []
  },
  {
   "cell_type": "code",
   "execution_count": null,
   "metadata": {},
   "outputs": [],
   "source": []
  },
  {
   "cell_type": "code",
   "execution_count": null,
   "metadata": {},
   "outputs": [],
   "source": []
  },
  {
   "cell_type": "code",
   "execution_count": null,
   "metadata": {},
   "outputs": [],
   "source": []
  },
  {
   "cell_type": "code",
   "execution_count": null,
   "metadata": {},
   "outputs": [],
   "source": []
  }
 ],
 "metadata": {
  "kernelspec": {
   "display_name": "Python 3",
   "language": "python",
   "name": "python3"
  },
  "language_info": {
   "codemirror_mode": {
    "name": "ipython",
    "version": 3
   },
   "file_extension": ".py",
   "mimetype": "text/x-python",
   "name": "python",
   "nbconvert_exporter": "python",
   "pygments_lexer": "ipython3",
   "version": "3.6.6"
  }
 },
 "nbformat": 4,
 "nbformat_minor": 2
}
